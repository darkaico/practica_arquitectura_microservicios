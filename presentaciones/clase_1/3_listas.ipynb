{
 "cells": [
  {
   "cell_type": "code",
   "execution_count": null,
   "metadata": {},
   "outputs": [],
   "source": [
    "# Ejemplo de una lista. Pilotos oficiales de Ferrari en 2014.\n",
    "ferrari_2014 = [\"Fernando Alonso\", \"Kimi Raikkonen\"]\n",
    "print(ferrari_2014)\n",
    " \n",
    "# Ejemplo de otra lista. Pilotos oficiales de Ferrari en 2013.\n",
    "ferrari_2013 = [\"Fernando Alonso\", \"Felipe Massa\"]\n",
    "print (ferrari_2013)"
   ]
  },
  {
   "cell_type": "code",
   "execution_count": null,
   "metadata": {},
   "outputs": [],
   "source": [
    "# Acceder a un elemento de la lista.\n",
    "print(ferrari_2014[1])"
   ]
  },
  {
   "cell_type": "code",
   "execution_count": null,
   "metadata": {},
   "outputs": [],
   "source": [
    "# pop: Extraemos a Kimi (que está en la posición número 1) de la lista. Alonso está en la posición 0.\n",
    "ferrari_2014.pop(1)\n",
    "print (ferrari_2014)\n"
   ]
  },
  {
   "cell_type": "code",
   "execution_count": null,
   "metadata": {},
   "outputs": [],
   "source": [
    "# append: Añadimos a Kimi al final de la lista\n",
    "ferrari_2014.append(\"Kimi Raikkonen\")\n",
    "print (ferrari_2014)"
   ]
  },
  {
   "cell_type": "code",
   "execution_count": null,
   "metadata": {},
   "outputs": [],
   "source": [
    "# del:Eliminamos el elemento de la primera posición de la lista (Fernando)\n",
    "del(ferrari_2014[0])\n",
    "print(ferrari_2014)"
   ]
  },
  {
   "cell_type": "code",
   "execution_count": null,
   "metadata": {},
   "outputs": [],
   "source": [
    "# insert: Añadimos a Fernando en la primera posición\n",
    "ferrari_2014.insert(1, \"Fernando Alonso\")\n",
    "print (ferrari_2014)"
   ]
  },
  {
   "cell_type": "code",
   "execution_count": null,
   "metadata": {},
   "outputs": [],
   "source": [
    "# extend: Juntamos los pilotos del 2013 y los del 2014. Fernando estará repetido.\n",
    "ferrari_2014.extend(ferrari_2013)\n",
    "print (ferrari_2014)"
   ]
  },
  {
   "cell_type": "code",
   "execution_count": null,
   "metadata": {},
   "outputs": [],
   "source": [
    "#remove: Borramos la primera vez que aparece Fernando Alonso\n",
    "ferrari_2014.remove(\"Fernando Alonso\")\n",
    "print (ferrari_2014)"
   ]
  },
  {
   "cell_type": "code",
   "execution_count": null,
   "metadata": {},
   "outputs": [],
   "source": []
  }
 ],
 "metadata": {
  "kernelspec": {
   "display_name": "Python 3",
   "language": "python",
   "name": "python3"
  },
  "language_info": {
   "codemirror_mode": {
    "name": "ipython",
    "version": 3
   },
   "file_extension": ".py",
   "mimetype": "text/x-python",
   "name": "python",
   "nbconvert_exporter": "python",
   "pygments_lexer": "ipython3",
   "version": "3.7.4"
  }
 },
 "nbformat": 4,
 "nbformat_minor": 2
}
