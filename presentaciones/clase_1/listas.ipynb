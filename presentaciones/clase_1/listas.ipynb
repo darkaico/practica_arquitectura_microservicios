{
 "cells": [
  {
   "cell_type": "code",
   "execution_count": 1,
   "metadata": {},
   "outputs": [
    {
     "name": "stdout",
     "output_type": "stream",
     "text": [
      "['Fernando Alonso', 'Kimi Raikkonen']\n",
      "['Fernando Alonso', 'Felipe Massa']\n"
     ]
    }
   ],
   "source": [
    "# Ejemplo de una lista. Pilotos oficiales de Ferrari en 2014.\n",
    "Ferrari2014=[\"Fernando Alonso\", \"Kimi Raikkonen\"]\n",
    "print (Ferrari2014)\n",
    " \n",
    "# Ejemplo de otra lista. Pilotos oficiales de Ferrari en 2013.\n",
    "Ferrari2013=[\"Fernando Alonso\", \"Felipe Massa\"]\n",
    "print (Ferrari2013)"
   ]
  },
  {
   "cell_type": "code",
   "execution_count": 2,
   "metadata": {},
   "outputs": [
    {
     "name": "stdout",
     "output_type": "stream",
     "text": [
      "Kimi Raikkonen\n"
     ]
    }
   ],
   "source": [
    "# Acceder a un elemento de la lista.\n",
    "print(Ferrari2014[1])"
   ]
  },
  {
   "cell_type": "code",
   "execution_count": 3,
   "metadata": {},
   "outputs": [
    {
     "name": "stdout",
     "output_type": "stream",
     "text": [
      "['Fernando Alonso']\n"
     ]
    }
   ],
   "source": [
    "# pop: Extraemos a Kimi (que está en la posición número 1) de la lista. Alonso está en la posición 0.\n",
    "Ferrari2014.pop(1)\n",
    "print (Ferrari2014)\n"
   ]
  },
  {
   "cell_type": "code",
   "execution_count": 4,
   "metadata": {},
   "outputs": [
    {
     "name": "stdout",
     "output_type": "stream",
     "text": [
      "['Fernando Alonso', 'Kimi Raikkonen']\n"
     ]
    }
   ],
   "source": [
    "# append: Añadimos a Kimi al final de la lista\n",
    "Ferrari2014.append(\"Kimi Raikkonen\")\n",
    "print (Ferrari2014)"
   ]
  },
  {
   "cell_type": "code",
   "execution_count": 5,
   "metadata": {},
   "outputs": [
    {
     "name": "stdout",
     "output_type": "stream",
     "text": [
      "['Kimi Raikkonen']\n"
     ]
    }
   ],
   "source": [
    "# del:Eliminamos el elemento de la primera posición de la lista (Fernando)\n",
    "del(Ferrari2014[0])\n",
    "print(Ferrari2014)"
   ]
  },
  {
   "cell_type": "code",
   "execution_count": 7,
   "metadata": {},
   "outputs": [
    {
     "name": "stdout",
     "output_type": "stream",
     "text": [
      "['Fernando Alonso', 'Fernando', 'Kimi Raikkonen']\n"
     ]
    }
   ],
   "source": [
    "# insert: Añadimos a Fernando en la primera posición\n",
    "Ferrari2014.insert(1, \"Fernando\")\n",
    "print (Ferrari2014)"
   ]
  },
  {
   "cell_type": "code",
   "execution_count": 8,
   "metadata": {},
   "outputs": [
    {
     "name": "stdout",
     "output_type": "stream",
     "text": [
      "['Fernando Alonso', 'Fernando', 'Kimi Raikkonen', 'Fernando Alonso', 'Felipe Massa']\n"
     ]
    }
   ],
   "source": [
    "# extend: Juntamos los pilotos del 2013 y los del 2014. Fernando estará repetido.\n",
    "Ferrari2014.extend(Ferrari2013)\n",
    "print (Ferrari2014)"
   ]
  },
  {
   "cell_type": "code",
   "execution_count": null,
   "metadata": {},
   "outputs": [],
   "source": [
    "#remove: Borramos la primera vez que aparece Fernando Alonso\n",
    "Ferrari2014.remove(\"Fernando Alonso\")\n",
    "print (Ferrari2014)"
   ]
  }
 ],
 "metadata": {
  "kernelspec": {
   "display_name": "Python 3",
   "language": "python",
   "name": "python3"
  },
  "language_info": {
   "codemirror_mode": {
    "name": "ipython",
    "version": 3
   },
   "file_extension": ".py",
   "mimetype": "text/x-python",
   "name": "python",
   "nbconvert_exporter": "python",
   "pygments_lexer": "ipython3",
   "version": "3.6.5"
  }
 },
 "nbformat": 4,
 "nbformat_minor": 2
}
