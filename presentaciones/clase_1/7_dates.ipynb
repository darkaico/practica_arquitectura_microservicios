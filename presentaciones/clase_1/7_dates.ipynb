{
 "cells": [
  {
   "cell_type": "code",
   "execution_count": 1,
   "metadata": {},
   "outputs": [
    {
     "name": "stdout",
     "output_type": "stream",
     "text": [
      "Numeros de segundos desde: 12:00am, January 1, 1970: 1568412331.959809\n"
     ]
    }
   ],
   "source": [
    "import time\n",
    "\n",
    "# time.time() devuelve la cantidad de segundos desde epoch (origin of a particular calendar)\n",
    "# For Unix system, January 1, 1970, 00:00:00 at UTC is epoch\n",
    "ticks = time.time()\n",
    "print (\"Numeros de segundos desde: 12:00am, January 1, 1970:\", ticks)"
   ]
  },
  {
   "cell_type": "code",
   "execution_count": 2,
   "metadata": {},
   "outputs": [
    {
     "name": "stdout",
     "output_type": "stream",
     "text": [
      "Este print se ejecuta inmediatamente\n",
      "Este print se ejecuta despues de 2.4 segundos.\n"
     ]
    }
   ],
   "source": [
    "# Sleep suspende la ejecucion del programa durante X segundos\n",
    "\n",
    "print(\"Este print se ejecuta inmediatamente\")\n",
    "time.sleep(2.4)\n",
    "print(\"Este print se ejecuta despues de 2.4 segundos.\")"
   ]
  },
  {
   "cell_type": "code",
   "execution_count": null,
   "metadata": {},
   "outputs": [],
   "source": [
    "from datetime import datetime as fecha\n",
    "\n",
    "now = fecha.now()"
   ]
  },
  {
   "cell_type": "code",
   "execution_count": null,
   "metadata": {},
   "outputs": [],
   "source": [
    "# Operaciones con fechas\n",
    "from datetime import timedelta\n",
    "d = timedelta(days=-1)\n",
    "\n",
    "print(now + d)"
   ]
  },
  {
   "cell_type": "code",
   "execution_count": null,
   "metadata": {},
   "outputs": [],
   "source": [
    "function_1()"
   ]
  }
 ],
 "metadata": {
  "kernelspec": {
   "display_name": "Python 3",
   "language": "python",
   "name": "python3"
  },
  "language_info": {
   "codemirror_mode": {
    "name": "ipython",
    "version": 3
   },
   "file_extension": ".py",
   "mimetype": "text/x-python",
   "name": "python",
   "nbconvert_exporter": "python",
   "pygments_lexer": "ipython3",
   "version": "3.7.4"
  }
 },
 "nbformat": 4,
 "nbformat_minor": 2
}
