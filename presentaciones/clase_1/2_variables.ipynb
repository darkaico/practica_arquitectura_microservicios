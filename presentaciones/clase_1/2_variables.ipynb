{
 "cells": [
  {
   "cell_type": "code",
   "execution_count": null,
   "metadata": {},
   "outputs": [],
   "source": [
    "# Definimos dos variables llamadas numero1 y\n",
    "# numero2, y asociaremos un número a cada una\n",
    "numero1=int(\"R\")\n",
    "numero2=float(2.5)\n",
    "print(numero1)\n",
    "print(numero2)"
   ]
  },
  {
   "cell_type": "code",
   "execution_count": 3,
   "metadata": {},
   "outputs": [
    {
     "name": "stdout",
     "output_type": "stream",
     "text": [
      "Esto es un texto\n",
      "Esto es otro texto\n"
     ]
    }
   ],
   "source": [
    "# Definimos dos variables llamadas texto y\n",
    "# texto2, y asociaremos un texto a cada una\n",
    "texto = \"Esto es un texto\"\n",
    "texto2 = 'Esto es otro texto'\n",
    "print(texto)\n",
    "print(texto2)"
   ]
  },
  {
   "cell_type": "code",
   "execution_count": 4,
   "metadata": {},
   "outputs": [
    {
     "name": "stdout",
     "output_type": "stream",
     "text": [
      "Hola\n",
      "... caracola\n"
     ]
    }
   ],
   "source": [
    "# Definimos una nueva variable texto3 que\n",
    "# incluye un texto multilinea.\n",
    "texto3 = \"\"\"Hola\n",
    "... caracola\"\"\"\n",
    "print (texto3)"
   ]
  },
  {
   "cell_type": "code",
   "execution_count": 5,
   "metadata": {},
   "outputs": [
    {
     "name": "stdout",
     "output_type": "stream",
     "text": [
      "54\n"
     ]
    }
   ],
   "source": [
    "#  Python supone que lo que introducimos es un texto al estar entre comillas, \n",
    "# aunque siempre podemos forzarle a interpretarlo como texto usando el comando str.\n",
    "texto3 = str(54)\n",
    "print(texto3)"
   ]
  },
  {
   "cell_type": "code",
   "execution_count": 6,
   "metadata": {},
   "outputs": [
    {
     "data": {
      "text/plain": [
       "str"
      ]
     },
     "execution_count": 6,
     "metadata": {},
     "output_type": "execute_result"
    }
   ],
   "source": [
    "type(texto3)"
   ]
  },
  {
   "cell_type": "code",
   "execution_count": 7,
   "metadata": {},
   "outputs": [
    {
     "name": "stdout",
     "output_type": "stream",
     "text": [
      "Hola Caracola\n"
     ]
    }
   ],
   "source": [
    "# Concatenar 2 textos, usamos +\n",
    "print(\"Hola\"+\" Caracola\")"
   ]
  },
  {
   "cell_type": "code",
   "execution_count": 9,
   "metadata": {},
   "outputs": [
    {
     "name": "stdout",
     "output_type": "stream",
     "text": [
      "Esto es un texto 15\n"
     ]
    }
   ],
   "source": [
    "texto=\"Esto es un texto\"\n",
    "numero=15\n",
    " \n",
    "# El siguiente comando devuelve un error\n",
    "# print(texto+\" \"+numero)\n",
    " \n",
    "# Convirtiendo el número en texto, solucionamos el problema.\n",
    "print(texto+\" \"+str(numero))"
   ]
  },
  {
   "cell_type": "code",
   "execution_count": null,
   "metadata": {},
   "outputs": [],
   "source": []
  }
 ],
 "metadata": {
  "kernelspec": {
   "display_name": "Python 3",
   "language": "python",
   "name": "python3"
  },
  "language_info": {
   "codemirror_mode": {
    "name": "ipython",
    "version": 3
   },
   "file_extension": ".py",
   "mimetype": "text/x-python",
   "name": "python",
   "nbconvert_exporter": "python",
   "pygments_lexer": "ipython3",
   "version": "3.7.4"
  }
 },
 "nbformat": 4,
 "nbformat_minor": 2
}
