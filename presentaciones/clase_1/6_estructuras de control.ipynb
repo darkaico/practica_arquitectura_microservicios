{
 "cells": [
  {
   "cell_type": "code",
   "execution_count": 3,
   "metadata": {},
   "outputs": [
    {
     "name": "stdout",
     "output_type": "stream",
     "text": [
      "No ha podido terminar la carrera por una avería mecánica\n"
     ]
    }
   ],
   "source": [
    "position_alonso = 0\n",
    "\n",
    "if position_alonso == 1:\n",
    "    print(\"Espectacular Alonso, se ha hecho justicia a pesar del coche\")\n",
    "    print(\"Ya queda menos para ganar el mundial\")\n",
    "elif position_alonso > 1:\n",
    "    print(\"Gran carrera de Alonso, lástima que el coche no esté a la altura\")\n",
    "else:\n",
    "    print(\"No ha podido terminar la carrera por una avería mecánica\")"
   ]
  },
  {
   "cell_type": "code",
   "execution_count": null,
   "metadata": {},
   "outputs": [],
   "source": [
    "# Estructuras mas comunes de Condicion\n",
    "# a == b –> Indica si a es igual a b\n",
    "# a < b\n",
    "# a > b\n",
    "# not –> NO: niega la condición que le sigue.\n",
    "# and –> Y: junta dos condiciones que tienen que cumplirse las dos\n",
    "# or –> O: junta dos condiciones y tienen que cumplirse alguna de las dos."
   ]
  },
  {
   "cell_type": "code",
   "execution_count": 4,
   "metadata": {},
   "outputs": [
    {
     "name": "stdout",
     "output_type": "stream",
     "text": [
      "Vuelta 1\n",
      "Vuelta 2\n",
      "Vuelta 3\n",
      "Vuelta 4\n",
      "Vuelta 5\n",
      "Vuelta 6\n",
      "Vuelta 7\n",
      "Vuelta 8\n",
      "Vuelta 9\n"
     ]
    }
   ],
   "source": [
    "vuelta = 1\n",
    "while vuelta < 10:\n",
    "    print(\"Vuelta \" + str(vuelta))\n",
    "    \n",
    "    vuelta = vuelta + 1"
   ]
  },
  {
   "cell_type": "code",
   "execution_count": 5,
   "metadata": {
    "scrolled": true
   },
   "outputs": [
    {
     "name": "stdout",
     "output_type": "stream",
     "text": [
      "Vuelta 1\n",
      "Vuelta 2\n",
      "Vuelta 3\n",
      "Vuelta 4\n",
      "Vuelta 5\n",
      "Vuelta 6\n",
      "Vuelta 7\n",
      "Vuelta 8\n",
      "Vuelta 9\n"
     ]
    }
   ],
   "source": [
    "for vuelta in range(1,10):\n",
    "    print(\"Vuelta \" + str(vuelta))"
   ]
  },
  {
   "cell_type": "code",
   "execution_count": 6,
   "metadata": {},
   "outputs": [
    {
     "data": {
      "text/plain": [
       "[1, 2, 3, 4, 5, 6, 7, 8, 9]"
      ]
     },
     "execution_count": 6,
     "metadata": {},
     "output_type": "execute_result"
    }
   ],
   "source": [
    "[a for a in range(1, 10)]"
   ]
  },
  {
   "cell_type": "code",
   "execution_count": 19,
   "metadata": {
    "scrolled": true
   },
   "outputs": [
    {
     "name": "stdout",
     "output_type": "stream",
     "text": [
      "1\n",
      "2\n",
      "3\n"
     ]
    }
   ],
   "source": [
    "coches = {'a': 1, 'b': 2, 'c': 3}\n",
    "for key_coche in coches:\n",
    "    print(coches.get(key_coche))"
   ]
  }
 ],
 "metadata": {
  "kernelspec": {
   "display_name": "Python 3",
   "language": "python",
   "name": "python3"
  },
  "language_info": {
   "codemirror_mode": {
    "name": "ipython",
    "version": 3
   },
   "file_extension": ".py",
   "mimetype": "text/x-python",
   "name": "python",
   "nbconvert_exporter": "python",
   "pygments_lexer": "ipython3",
   "version": "3.7.4"
  }
 },
 "nbformat": 4,
 "nbformat_minor": 2
}
