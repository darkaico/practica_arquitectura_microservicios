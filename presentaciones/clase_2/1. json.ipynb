{
 "cells": [
  {
   "cell_type": "code",
   "execution_count": 2,
   "metadata": {},
   "outputs": [
    {
     "data": {
      "text/plain": [
       "dict"
      ]
     },
     "execution_count": 2,
     "metadata": {},
     "output_type": "execute_result"
    }
   ],
   "source": [
    "medios_de_pago = {\n",
    "    'VISA': {\n",
    "        'nombre': 'Visa international',\n",
    "        'tipo': 'tarjeta de credito',\n",
    "        'habilitada': True\n",
    "    },\n",
    "    'MASTERCARD': {\n",
    "        'nombre': 'Mastercard United',\n",
    "        'tipo': 'tarjeta de credito',\n",
    "        'habilitada': True\n",
    "    },\n",
    "    'RAPIPAGO': {\n",
    "        'nombre': 'Rapipago SA',\n",
    "        'tipo': 'Pago diferido',\n",
    "        'habilitada': True\n",
    "    },\n",
    "    'AMERICAN_EXPRESS': {\n",
    "        'nombre': 'American Express SA',\n",
    "        'tipo': 'Tarjeta de Credito',\n",
    "        'habilitada': True\n",
    "    }\n",
    "}\n",
    "\n",
    "type(medios_de_pago)"
   ]
  },
  {
   "cell_type": "code",
   "execution_count": 6,
   "metadata": {},
   "outputs": [
    {
     "name": "stdout",
     "output_type": "stream",
     "text": [
      "{\"VISA\": {\"nombre\": \"Visa international\", \"tipo\": \"tarjeta de credito\", \"habilitada\": true}, \"MASTERCARD\": {\"nombre\": \"Mastercard United\", \"tipo\": \"tarjeta de credito\", \"habilitada\": true}, \"RAPIPAGO\": {\"nombre\": \"Rapipago SA\", \"tipo\": \"Pago diferido\", \"habilitada\": true}, \"AMERICAN_EXPRESS\": {\"nombre\": \"American Express SA\", \"tipo\": \"Tarjeta de Credito\", \"habilitada\": true}}\n"
     ]
    }
   ],
   "source": [
    "import json\n",
    "# Encodeando la respuesta\n",
    "\n",
    "json_response = json.dumps(medios_de_pago)\n",
    "print(json_response)"
   ]
  },
  {
   "cell_type": "code",
   "execution_count": 7,
   "metadata": {},
   "outputs": [
    {
     "name": "stdout",
     "output_type": "stream",
     "text": [
      "{\"AMERICAN_EXPRESS\": {\"habilitada\": true, \"nombre\": \"American Express SA\", \"tipo\": \"Tarjeta de Credito\"}, \"MASTERCARD\": {\"habilitada\": true, \"nombre\": \"Mastercard United\", \"tipo\": \"tarjeta de credito\"}, \"RAPIPAGO\": {\"habilitada\": true, \"nombre\": \"Rapipago SA\", \"tipo\": \"Pago diferido\"}, \"VISA\": {\"habilitada\": true, \"nombre\": \"Visa international\", \"tipo\": \"tarjeta de credito\"}}\n"
     ]
    }
   ],
   "source": [
    "# Ordenar las keys\n",
    "print(json.dumps(medios_de_pago, sort_keys=True))"
   ]
  },
  {
   "cell_type": "code",
   "execution_count": 8,
   "metadata": {},
   "outputs": [
    {
     "name": "stdout",
     "output_type": "stream",
     "text": [
      "{\n",
      "    \"AMERICAN_EXPRESS\": {\n",
      "        \"habilitada\": true,\n",
      "        \"nombre\": \"American Express SA\",\n",
      "        \"tipo\": \"Tarjeta de Credito\"\n",
      "    },\n",
      "    \"MASTERCARD\": {\n",
      "        \"habilitada\": true,\n",
      "        \"nombre\": \"Mastercard United\",\n",
      "        \"tipo\": \"tarjeta de credito\"\n",
      "    },\n",
      "    \"RAPIPAGO\": {\n",
      "        \"habilitada\": true,\n",
      "        \"nombre\": \"Rapipago SA\",\n",
      "        \"tipo\": \"Pago diferido\"\n",
      "    },\n",
      "    \"VISA\": {\n",
      "        \"habilitada\": true,\n",
      "        \"nombre\": \"Visa international\",\n",
      "        \"tipo\": \"tarjeta de credito\"\n",
      "    }\n",
      "}\n"
     ]
    }
   ],
   "source": [
    "# Pretty printing\n",
    "print(json.dumps(medios_de_pago, sort_keys=True, indent=4))"
   ]
  },
  {
   "cell_type": "code",
   "execution_count": 10,
   "metadata": {},
   "outputs": [
    {
     "name": "stdout",
     "output_type": "stream",
     "text": [
      "{\"Title\":\"Logan\",\"Year\":\"2017\",\"imdbID\":\"tt3315342\",\"Type\":\"movie\",\"Poster\":\"https://m.media-amazon.com/images/M/MV5BYzc5MTU4N2EtYTkyMi00NjdhLTg3NWEtMTY4OTEyMzJhZTAzXkEyXkFqcGdeQXVyNjc1NTYyMjg@._V1_SX300.jpg\"}\n",
      "<class 'str'>\n"
     ]
    }
   ],
   "source": [
    "json_data = '{\"Title\":\"Logan\",\"Year\":\"2017\",\"imdbID\":\"tt3315342\",\"Type\":\"movie\",\"Poster\":\"https://m.media-amazon.com/images/M/MV5BYzc5MTU4N2EtYTkyMi00NjdhLTg3NWEtMTY4OTEyMzJhZTAzXkEyXkFqcGdeQXVyNjc1NTYyMjg@._V1_SX300.jpg\"}'\n",
    "print(json_data)\n",
    "print(type(json_data))"
   ]
  },
  {
   "cell_type": "code",
   "execution_count": 11,
   "metadata": {},
   "outputs": [
    {
     "ename": "TypeError",
     "evalue": "string indices must be integers",
     "output_type": "error",
     "traceback": [
      "\u001b[0;31m---------------------------------------------------------------------------\u001b[0m",
      "\u001b[0;31mTypeError\u001b[0m                                 Traceback (most recent call last)",
      "\u001b[0;32m<ipython-input-11-71d3a9270e61>\u001b[0m in \u001b[0;36m<module>\u001b[0;34m\u001b[0m\n\u001b[0;32m----> 1\u001b[0;31m \u001b[0mjson_data\u001b[0m\u001b[0;34m[\u001b[0m\u001b[0;34m'Title'\u001b[0m\u001b[0;34m]\u001b[0m\u001b[0;34m\u001b[0m\u001b[0;34m\u001b[0m\u001b[0m\n\u001b[0m",
      "\u001b[0;31mTypeError\u001b[0m: string indices must be integers"
     ]
    }
   ],
   "source": [
    "json_data['Title']"
   ]
  },
  {
   "cell_type": "code",
   "execution_count": null,
   "metadata": {},
   "outputs": [],
   "source": [
    "decoded_json_data = json.loads(json_data)\n",
    "\n",
    "print(type(decoded_json_data))\n",
    "print(decoded_json_data)"
   ]
  },
  {
   "cell_type": "code",
   "execution_count": null,
   "metadata": {},
   "outputs": [],
   "source": [
    "decoded_json_data.get('Year')"
   ]
  },
  {
   "cell_type": "code",
   "execution_count": null,
   "metadata": {},
   "outputs": [],
   "source": [
    "from IPython.display import Image\n",
    "from IPython.core.display import HTML \n",
    "\n",
    "Image(url=decoded_json_data['Poster'])"
   ]
  },
  {
   "cell_type": "code",
   "execution_count": null,
   "metadata": {},
   "outputs": [],
   "source": []
  }
 ],
 "metadata": {
  "kernelspec": {
   "display_name": "Python 3",
   "language": "python",
   "name": "python3"
  },
  "language_info": {
   "codemirror_mode": {
    "name": "ipython",
    "version": 3
   },
   "file_extension": ".py",
   "mimetype": "text/x-python",
   "name": "python",
   "nbconvert_exporter": "python",
   "pygments_lexer": "ipython3",
   "version": "3.7.4"
  }
 },
 "nbformat": 4,
 "nbformat_minor": 2
}
