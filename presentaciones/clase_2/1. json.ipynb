{
 "cells": [
  {
   "cell_type": "code",
   "execution_count": null,
   "metadata": {},
   "outputs": [],
   "source": [
    "medios_de_pago = {\n",
    "    'VISA': {\n",
    "        'nombre': 'Visa international',\n",
    "        'tipo': 'tarjeta de credito',\n",
    "        'habilitada': True\n",
    "    },\n",
    "    'MASTERCARD': {\n",
    "        'nombre': 'Mastercard United',\n",
    "        'tipo': 'tarjeta de credito',\n",
    "        'habilitada': True\n",
    "    },\n",
    "    'RAPIPAGO': {\n",
    "        'nombre': 'Rapipago SA',\n",
    "        'tipo': 'Pago diferido',\n",
    "        'habilitada': True\n",
    "    },\n",
    "    'AMERICAN_EXPRESS': {\n",
    "        'nombre': 'American Express SA',\n",
    "        'tipo': 'Tarjeta de Credito',\n",
    "        'habilitada': True\n",
    "    }\n",
    "}\n",
    "\n",
    "print(medios_de_pago)"
   ]
  },
  {
   "cell_type": "code",
   "execution_count": null,
   "metadata": {},
   "outputs": [],
   "source": [
    "import json\n",
    "# Encodeando la respuesta\n",
    "\n",
    "json.dumps(medios_de_pago)"
   ]
  },
  {
   "cell_type": "code",
   "execution_count": null,
   "metadata": {},
   "outputs": [],
   "source": [
    "# Ordenar las keys\n",
    "print(json.dumps(medios_de_pago, sort_keys=True))"
   ]
  },
  {
   "cell_type": "code",
   "execution_count": null,
   "metadata": {},
   "outputs": [],
   "source": [
    "# Pretty printing\n",
    "print(json.dumps(medios_de_pago, sort_keys=True, indent=4))"
   ]
  },
  {
   "cell_type": "code",
   "execution_count": null,
   "metadata": {},
   "outputs": [],
   "source": [
    "json_data = '{\"Title\":\"Logan\",\"Year\":\"2017\",\"imdbID\":\"tt3315342\",\"Type\":\"movie\",\"Poster\":\"https://m.media-amazon.com/images/M/MV5BYzc5MTU4N2EtYTkyMi00NjdhLTg3NWEtMTY4OTEyMzJhZTAzXkEyXkFqcGdeQXVyNjc1NTYyMjg@._V1_SX300.jpg\"}'\n",
    "print(json_data)\n",
    "print(type(json_data))"
   ]
  },
  {
   "cell_type": "code",
   "execution_count": null,
   "metadata": {},
   "outputs": [],
   "source": [
    "json_data['Title']"
   ]
  },
  {
   "cell_type": "code",
   "execution_count": null,
   "metadata": {},
   "outputs": [],
   "source": [
    "decoded_json_data = json.loads(json_data)\n",
    "\n",
    "print(type(decoded_json_data))\n",
    "print(decoded_json_data)"
   ]
  },
  {
   "cell_type": "code",
   "execution_count": null,
   "metadata": {},
   "outputs": [],
   "source": [
    "decoded_json_data.get('Year')"
   ]
  },
  {
   "cell_type": "code",
   "execution_count": null,
   "metadata": {},
   "outputs": [],
   "source": [
    "from IPython.display import Image\n",
    "from IPython.core.display import HTML \n",
    "\n",
    "Image(url=decoded_json_data['Poster'])"
   ]
  },
  {
   "cell_type": "code",
   "execution_count": null,
   "metadata": {},
   "outputs": [],
   "source": []
  }
 ],
 "metadata": {
  "kernelspec": {
   "display_name": "Python 3",
   "language": "python",
   "name": "python3"
  },
  "language_info": {
   "codemirror_mode": {
    "name": "ipython",
    "version": 3
   },
   "file_extension": ".py",
   "mimetype": "text/x-python",
   "name": "python",
   "nbconvert_exporter": "python",
   "pygments_lexer": "ipython3",
   "version": "3.7.4"
  }
 },
 "nbformat": 4,
 "nbformat_minor": 2
}
