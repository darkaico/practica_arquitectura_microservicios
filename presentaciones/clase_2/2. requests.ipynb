{
 "cells": [
  {
   "cell_type": "code",
   "execution_count": 3,
   "metadata": {},
   "outputs": [
    {
     "name": "stdout",
     "output_type": "stream",
     "text": [
      "<Response [200]>\n"
     ]
    }
   ],
   "source": [
    "import requests\n",
    "\n",
    "response = requests.get('http://www.google.com')\n",
    "\n",
    "print(response)"
   ]
  },
  {
   "cell_type": "code",
   "execution_count": 4,
   "metadata": {},
   "outputs": [
    {
     "data": {
      "text/plain": [
       "200"
      ]
     },
     "execution_count": 4,
     "metadata": {},
     "output_type": "execute_result"
    }
   ],
   "source": [
    "response.status_code"
   ]
  },
  {
   "cell_type": "code",
   "execution_count": 5,
   "metadata": {},
   "outputs": [
    {
     "data": {
      "text/plain": [
       "'<!doctype html><html itemscope=\"\" itemtype=\"http://schema.org/WebPage\" lang=\"es-419\"><head><meta content=\"text/html; charset=UTF-8\" http-equiv=\"Content-Type\"><meta content=\"/logos/doodles/2019/hans-christian-grams-166th-birthday-4899397128159232-l.png\" itemprop=\"image\"><meta content=\"166º aniversario del nacimiento de Hans Christian Gram\" property=\"twitter:title\"><meta content=\"166º aniversario del nacimiento de Hans Christian Gram #GoogleDoodle\" property=\"twitter:description\"><meta content=\"166º aniversario del nacimiento de Hans Christian Gram #GoogleDoodle\" property=\"og:description\"><meta content=\"summary_large_image\" property=\"twitter:card\"><meta content=\"@GoogleDoodles\" property=\"twitter:site\"><meta content=\"https://www.google.com/logos/doodles/2019/hans-christian-grams-166th-birthday-4899397128159232-2x.jpg\" property=\"twitter:image\"><meta content=\"https://www.google.com/logos/doodles/2019/hans-christian-grams-166th-birthday-4899397128159232-2x.jpg\" property=\"og:image\"><meta content=\"1200\" property=\"og:image:width\"><meta content=\"393\" property=\"og:image:height\"><title>Google</title><script nonce=\"5yMuT3cfXyEbfhhHcKTleA==\">(function(){window.google={kEI:\\'3xV8Xa2dEYq35OUPgZGHuAY\\',kEXPI:\\'0,1353747,3656,2006,590,141,223,510,18,227,820,3151,378,207,1017,53,1431,577,2,124,10,272,441,227,92,19,264,3,271,116,128,1132015,1197592,329487,1294,12383,4855,32692,15247,867,12163,16521,364,8824,2442,5942,1119,2,579,727,2432,1361,4323,4968,773,2253,4741,7,3112,6195,669,1050,1808,1478,7,491,2044,8909,694,4603,2016,38,920,873,1217,1362,1613,2736,49,3012,2,631,1140,1263,837,8066,2884,20,317,1119,904,102,2023,1,142,1,225,2778,520,401,990,509,776,8,109,2687,219,670,78,48,553,11,15,422,856,2212,202,323,5,68,1184,327,515,122,200,193,1466,8,48,820,2620,818,260,52,1137,2,2063,606,789,1050,184,595,1182,520,360,1587,747,61,158,98,112,44,1102,328,1284,24,76,336,82,505,1920,1639,104,504,100,143,230,11,123,1206,728,501,557,669,1604,1,610,210,133,521,252,1548,524,7,427,76,225,591,288,236,928,123,436,1111,281,508,347,22,270,318,1262,528,425,439,518,3162,407,465,37,2,50,265,347,43,11,110,2,962,35,58,469,418,710,2,375,80,157,291,229,322,564,442,312,47,63,104,299,75,124,120,498,59,1281,65,46,168,744,140,445,626,5892256,3121,5997250,96,187,2799686,4,249,1323,549,333,444,1,2,80,1,900,583,7,306,1,8,1,2,2132,1,1,1,1,1,414,1,748,141,59,726,3,7,563,1,3749,32,1,5,4,1,73,2796154,21169985\\',authuser:0,kscs:\\'c9c918f0_3xV8Xa2dEYq35OUPgZGHuAY\\',kGL:\\'AR\\',kBL:\\'7eXu\\'};google.sn=\\'webhp\\';google.kHL=\\'es-419\\';google.jsfs=\\'Ffpdje\\';})();(function(){google.lc=[];google.li=0;google.getEI=function(a){for(var b;a&&(!a.getAttribute||!(b=a.getAttribute(\"eid\")));)a=a.parentNode;return b||google.kEI};google.getLEI=function(a){for(var b=null;a&&(!a.getAttribute||!(b=a.getAttribute(\"leid\")));)a=a.parentNode;return b};google.https=function(){return\"https:\"==window.location.protocol};google.ml=function(){return null};google.time=function(){return(new Date).getTime()};google.log=function(a,b,e,c,g){if(a=google.logUrl(a,b,e,c,g)){b=new Image;var d=google.lc,f=google.li;d[f]=b;b.onerror=b.onload=b.onabort=function(){delete d[f]};google.vel&&google.vel.lu&&google.vel.lu(a);b.src=a;google.li=f+1}};google.logUrl=function(a,b,e,c,g){var d=\"\",f=google.ls||\"\";e||-1!=b.search(\"&ei=\")||(d=\"&ei=\"+google.getEI(c),-1==b.search(\"&lei=\")&&(c=google.getLEI(c))&&(d+=\"&lei=\"+c));c=\"\";!e&&google.cshid&&-1==b.search(\"&cshid=\")&&\"slh\"!=a&&(c=\"&cshid=\"+google.cshid);a=e||\"/\"+(g||\"gen_204\")+\"?atyp=i&ct=\"+a+\"&cad=\"+b+d+f+\"&zx=\"+google.time()+c;/^http:/i.test(a)&&google.https()&&(google.ml(Error(\"a\"),!1,{src:a,glmm:1}),a=\"\");return a};}).call(this);(function(){google.y={};google.x=function(a,b){if(a)var c=a.id;else{do c=Math.random();while(google.y[c])}google.y[c]=[a,b];return!1};google.lm=[];google.plm=function(a){google.lm.push.apply(google.lm,a)};google.lq=[];google.load=function(a,b,c){google.lq.push([[a],b,c])};google.loadAll=function(a,b){google.lq.push([a,b])};}).call(this);google.f={};var a=window.location,b=a.href.indexOf(\"#\");if(0<=b){var c=a.href.substring(b+1);/(^|&)q=/.test(c)&&-1==c.indexOf(\"#\")&&a.replace(\"/search?\"+c.replace(/(^|&)fp=[^&]*/g,\"\")+\"&cad=h\")};</script><style>#gbar,#guser{font-size:13px;padding-top:1px !important;}#gbar{height:22px}#guser{padding-bottom:7px !important;text-align:right}.gbh,.gbd{border-top:1px solid #c9d7f1;font-size:1px}.gbh{height:0;position:absolute;top:24px;width:100%}@media all{.gb1{height:22px;margin-right:.5em;vertical-align:top}#gbar{float:left}}a.gb1,a.gb4{text-decoration:underline !important}a.gb1,a.gb4{color:#00c !important}.gbi .gb4{color:#dd8e27 !important}.gbf .gb4{color:#900 !important}\\n</style><style>body,td,a,p,.h{font-family:arial,sans-serif}body{margin:0;overflow-y:scroll}#gog{padding:3px 8px 0}td{line-height:.8em}.gac_m td{line-height:17px}form{margin-bottom:20px}.h{color:#36c}.q{color:#00c}.ts td{padding:0}.ts{border-collapse:collapse}em{font-weight:bold;font-style:normal}.lst{height:25px;width:496px}.gsfi,.lst{font:18px arial,sans-serif}.gsfs{font:17px arial,sans-serif}.ds{display:inline-box;display:inline-block;margin:3px 0 4px;margin-left:4px}input{font-family:inherit}a.gb1,a.gb2,a.gb3,a.gb4{color:#11c !important}body{background:#fff;color:black}a{color:#11c;text-decoration:none}a:hover,a:active{text-decoration:underline}.fl a{color:#36c}a:visited{color:#551a8b}a.gb1,a.gb4{text-decoration:underline}a.gb3:hover{text-decoration:none}#ghead a.gb2:hover{color:#fff !important}.sblc{padding-top:5px}.sblc a{display:block;margin:2px 0;margin-left:13px;font-size:11px}.lsbb{background:#eee;border:solid 1px;border-color:#ccc #999 #999 #ccc;height:30px}.lsbb{display:block}.ftl,#fll a{display:inline-block;margin:0 12px}.lsb{background:url(/images/nav_logo229.png) 0 -261px repeat-x;border:none;color:#000;cursor:pointer;height:30px;margin:0;outline:0;font:15px arial,sans-serif;vertical-align:top}.lsb:active{background:#ccc}.lst:focus{outline:none}</style><script nonce=\"5yMuT3cfXyEbfhhHcKTleA==\"></script></head><body bgcolor=\"#fff\"><script nonce=\"5yMuT3cfXyEbfhhHcKTleA==\">(function(){var src=\\'/images/nav_logo229.png\\';var iesg=false;document.body.onload = function(){window.n && window.n();if (document.images){new Image().src=src;}\\nif (!iesg){document.f&&document.f.q.focus();document.gbqf&&document.gbqf.q.focus();}\\n}\\n})();</script><div id=\"mngb\"> <div id=gbar><nobr><b class=gb1>Búsqueda</b> <a class=gb1 href=\"http://www.google.com.ar/imghp?hl=es-419&tab=wi\">Imágenes</a> <a class=gb1 href=\"http://maps.google.com.ar/maps?hl=es-419&tab=wl\">Maps</a> <a class=gb1 href=\"https://play.google.com/?hl=es-419&tab=w8\">Play</a> <a class=gb1 href=\"http://www.youtube.com/?gl=AR&tab=w1\">YouTube</a> <a class=gb1 href=\"http://news.google.com.ar/nwshp?hl=es-419&tab=wn\">Noticias</a> <a class=gb1 href=\"https://mail.google.com/mail/?tab=wm\">Gmail</a> <a class=gb1 href=\"https://drive.google.com/?tab=wo\">Drive</a> <a class=gb1 style=\"text-decoration:none\" href=\"https://www.google.com.ar/intl/es-419/about/products?tab=wh\"><u>Más</u> &raquo;</a></nobr></div><div id=guser width=100%><nobr><span id=gbn class=gbi></span><span id=gbf class=gbf></span><span id=gbe></span><a href=\"http://www.google.com.ar/history/optout?hl=es-419\" class=gb4>Historial web</a> | <a  href=\"/preferences?hl=es-419\" class=gb4>Preferencias</a> | <a target=_top id=gb_70 href=\"https://accounts.google.com/ServiceLogin?hl=es-419&passive=true&continue=http://www.google.com/\" class=gb4>Iniciar sesión</a></nobr></div><div class=gbh style=left:0></div><div class=gbh style=right:0></div> </div><center><br clear=\"all\" id=\"lgpd\"><div id=\"lga\"><a href=\"/search?ie=UTF-8&amp;q=Hans+Christian+Gram&amp;oi=ddle&amp;ct=119276286&amp;hl=es-419&amp;kgmid=/m/0kmq1&amp;sa=X&amp;ved=0ahUKEwjtiPml6s7kAhWKG7kGHYHIAWcQPQgD\"><img alt=\"166º aniversario del nacimiento de Hans Christian Gram\" border=\"0\" height=\"200\" src=\"/logos/doodles/2019/hans-christian-grams-166th-birthday-4899397128159232-l.png\" title=\"166º aniversario del nacimiento de Hans Christian Gram\" width=\"618\" id=\"hplogo\"><br></a><br></div><form action=\"/search\" name=\"f\"><table cellpadding=\"0\" cellspacing=\"0\"><tr valign=\"top\"><td width=\"25%\">&nbsp;</td><td align=\"center\" nowrap=\"\"><input name=\"ie\" value=\"ISO-8859-1\" type=\"hidden\"><input value=\"es-419\" name=\"hl\" type=\"hidden\"><input name=\"source\" type=\"hidden\" value=\"hp\"><input name=\"biw\" type=\"hidden\"><input name=\"bih\" type=\"hidden\"><div class=\"ds\" style=\"height:32px;margin:4px 0\"><input style=\"color:#000;margin:0;padding:5px 8px 0 6px;vertical-align:top\" autocomplete=\"off\" class=\"lst\" value=\"\" title=\"Buscar con Google\" maxlength=\"2048\" name=\"q\" size=\"57\"></div><br style=\"line-height:0\"><span class=\"ds\"><span class=\"lsbb\"><input class=\"lsb\" value=\"Buscar con Google\" name=\"btnG\" type=\"submit\"></span></span><span class=\"ds\"><span class=\"lsbb\"><input class=\"lsb\" id=\"tsuid1\" value=\"Me siento con suerte \" name=\"btnI\" type=\"submit\"><script nonce=\"5yMuT3cfXyEbfhhHcKTleA==\">(function(){var id=\\'tsuid1\\';document.getElementById(id).onclick = function(){if (this.form.q.value){this.checked = 1;if (this.form.iflsig)this.form.iflsig.disabled = false;}\\nelse top.location=\\'/doodles/\\';};})();</script></span></span></td><td class=\"fl sblc\" align=\"left\" nowrap=\"\" width=\"25%\"><a href=\"/advanced_search?hl=es-419&amp;authuser=0\">Búsqueda avanzada</a><a href=\"/language_tools?hl=es-419&amp;authuser=0\">Herramientas de idioma</a></td></tr></table><input id=\"gbv\" name=\"gbv\" type=\"hidden\" value=\"1\"><script nonce=\"5yMuT3cfXyEbfhhHcKTleA==\">(function(){var a,b=\"1\";if(document&&document.getElementById)if(\"undefined\"!=typeof XMLHttpRequest)b=\"2\";else if(\"undefined\"!=typeof ActiveXObject){var c,d,e=[\"MSXML2.XMLHTTP.6.0\",\"MSXML2.XMLHTTP.3.0\",\"MSXML2.XMLHTTP\",\"Microsoft.XMLHTTP\"];for(c=0;d=e[c++];)try{new ActiveXObject(d),b=\"2\"}catch(h){}}a=b;if(\"2\"==a&&-1==location.search.indexOf(\"&gbv=2\")){var f=google.gbvu,g=document.getElementById(\"gbv\");g&&(g.value=a);f&&window.setTimeout(function(){location.href=f},0)};}).call(this);</script></form><div id=\"gac_scont\"></div><div style=\"font-size:83%;min-height:3.5em\"><br></div><span id=\"footer\"><div style=\"font-size:10pt\"><div style=\"margin:19px auto;text-align:center\" id=\"fll\"><a href=\"/intl/es-419/ads/\">Programas de publicidad</a><a href=\"/services/\">Soluciones Empresariales</a><a href=\"/intl/es-419/about.html\">Todo acerca de Google</a><a href=\"http://www.google.com/setprefdomain?prefdom=AR&amp;prev=http://www.google.com.ar/&amp;sig=K_GVnPCKEHWFx6MMcpZNsXSlThcq4%3D\">Google.com.ar</a></div></div><p style=\"color:#767676;font-size:8pt\">&copy; 2019 - <a href=\"/intl/es-419/policies/privacy/\">Privacidad</a> - <a href=\"/intl/es-419/policies/terms/\">Condiciones</a></p></span></center><script nonce=\"5yMuT3cfXyEbfhhHcKTleA==\">(function(){window.google.cdo={height:0,width:0};(function(){var a=window.innerWidth,b=window.innerHeight;if(!a||!b){var c=window.document,d=\"CSS1Compat\"==c.compatMode?c.documentElement:c.body;a=d.clientWidth;b=d.clientHeight}a&&b&&(a!=google.cdo.width||b!=google.cdo.height)&&google.log(\"\",\"\",\"/client_204?&atyp=i&biw=\"+a+\"&bih=\"+b+\"&ei=\"+google.kEI);}).call(this);})();(function(){var u=\\'/xjs/_/js/k\\\\x3dxjs.hp.en.llzzzZT0U4U.O/m\\\\x3dsb_he,d/am\\\\x3dHhZsAg/d\\\\x3d1/rs\\\\x3dACT90oGjxa41emhWCFKsF-MeloGa0Wc2KA\\';setTimeout(function(){var a=document.createElement(\"script\");a.src=u;google.timers&&google.timers.load&&google.tick&&google.tick(\"load\",\"xjsls\");document.body.appendChild(a)},0);})();(function(){window.google.xjsu=\\'/xjs/_/js/k\\\\x3dxjs.hp.en.llzzzZT0U4U.O/m\\\\x3dsb_he,d/am\\\\x3dHhZsAg/d\\\\x3d1/rs\\\\x3dACT90oGjxa41emhWCFKsF-MeloGa0Wc2KA\\';})();function _DumpException(e){throw e;}\\nfunction _F_installCss(c){}\\n(function(){google.spjs=false;google.snet=true;google.em=[];google.emw=false;})();(function(){var pmc=\\'{\\\\x22JnTczA\\\\x22:{},\\\\x22Qnk92g\\\\x22:{},\\\\x22RWGcrA\\\\x22:{},\\\\x22U5B21g\\\\x22:{},\\\\x22YFCs/g\\\\x22:{},\\\\x22YQeDTA\\\\x22:{},\\\\x22ZI/YVQ\\\\x22:{},\\\\x22d\\\\x22:{},\\\\x22mVopag\\\\x22:{},\\\\x22sb_he\\\\x22:{\\\\x22agen\\\\x22:true,\\\\x22cgen\\\\x22:true,\\\\x22client\\\\x22:\\\\x22heirloom-hp\\\\x22,\\\\x22dh\\\\x22:true,\\\\x22dhqt\\\\x22:true,\\\\x22ds\\\\x22:\\\\x22\\\\x22,\\\\x22ffql\\\\x22:\\\\x22es\\\\x22,\\\\x22fl\\\\x22:true,\\\\x22host\\\\x22:\\\\x22google.com\\\\x22,\\\\x22isbh\\\\x22:28,\\\\x22jsonp\\\\x22:true,\\\\x22msgs\\\\x22:{\\\\x22cibl\\\\x22:\\\\x22Borrar búsqueda\\\\x22,\\\\x22dym\\\\x22:\\\\x22Quizás quisiste decir:\\\\x22,\\\\x22lcky\\\\x22:\\\\x22Me siento con suerte\\\\x22,\\\\x22lml\\\\x22:\\\\x22Más información\\\\x22,\\\\x22oskt\\\\x22:\\\\x22Herramientas de introducción de texto\\\\x22,\\\\x22psrc\\\\x22:\\\\x22Se ha eliminado esta búsqueda de tu \\\\\\\\u003Ca href\\\\x3d\\\\\\\\\\\\x22/history\\\\\\\\\\\\x22\\\\\\\\u003EHistorial web\\\\\\\\u003C/a\\\\\\\\u003E\\\\x22,\\\\x22psrl\\\\x22:\\\\x22Eliminar\\\\x22,\\\\x22sbit\\\\x22:\\\\x22Buscar por imágenes\\\\x22,\\\\x22srch\\\\x22:\\\\x22Buscar con Google\\\\x22},\\\\x22ovr\\\\x22:{},\\\\x22pq\\\\x22:\\\\x22\\\\x22,\\\\x22refpd\\\\x22:true,\\\\x22rfs\\\\x22:[],\\\\x22sbpl\\\\x22:24,\\\\x22sbpr\\\\x22:24,\\\\x22scd\\\\x22:10,\\\\x22sce\\\\x22:5,\\\\x22stok\\\\x22:\\\\x22Ow6Pyr97f6GzmPN0azf1GNk_cFU\\\\x22,\\\\x22uhde\\\\x22:false}}\\';google.pmc=JSON.parse(pmc);})();</script>        </body></html>'"
      ]
     },
     "execution_count": 5,
     "metadata": {},
     "output_type": "execute_result"
    }
   ],
   "source": [
    "response.text"
   ]
  },
  {
   "cell_type": "code",
   "execution_count": 6,
   "metadata": {},
   "outputs": [],
   "source": [
    "## IMDB API\n",
    "API_KEY = 'b2db22c6'"
   ]
  },
  {
   "cell_type": "code",
   "execution_count": 8,
   "metadata": {},
   "outputs": [
    {
     "name": "stdout",
     "output_type": "stream",
     "text": [
      "{\"Search\":[{\"Title\":\"The Avengers\",\"Year\":\"2012\",\"imdbID\":\"tt0848228\",\"Type\":\"movie\",\"Poster\":\"https://m.media-amazon.com/images/M/MV5BNDYxNjQyMjAtNTdiOS00NGYwLWFmNTAtNThmYjU5ZGI2YTI1XkEyXkFqcGdeQXVyMTMxODk2OTU@._V1_SX300.jpg\"},{\"Title\":\"Avengers: Infinity War\",\"Year\":\"2018\",\"imdbID\":\"tt4154756\",\"Type\":\"movie\",\"Poster\":\"https://m.media-amazon.com/images/M/MV5BMjMxNjY2MDU1OV5BMl5BanBnXkFtZTgwNzY1MTUwNTM@._V1_SX300.jpg\"},{\"Title\":\"Avengers: Age of Ultron\",\"Year\":\"2015\",\"imdbID\":\"tt2395427\",\"Type\":\"movie\",\"Poster\":\"https://m.media-amazon.com/images/M/MV5BMTM4OGJmNWMtOTM4Ni00NTE3LTg3MDItZmQxYjc4N2JhNmUxXkEyXkFqcGdeQXVyNTgzMDMzMTg@._V1_SX300.jpg\"},{\"Title\":\"Avengers: Endgame\",\"Year\":\"2019\",\"imdbID\":\"tt4154796\",\"Type\":\"movie\",\"Poster\":\"https://m.media-amazon.com/images/M/MV5BMTc5MDE2ODcwNV5BMl5BanBnXkFtZTgwMzI2NzQ2NzM@._V1_SX300.jpg\"},{\"Title\":\"Avengers: Endgame\",\"Year\":\"2019\",\"imdbID\":\"tt4154796\",\"Type\":\"movie\",\"Poster\":\"https://m.media-amazon.com/images/M/MV5BMTc5MDE2ODcwNV5BMl5BanBnXkFtZTgwMzI2NzQ2NzM@._V1_SX300.jpg\"},{\"Title\":\"The Avengers\",\"Year\":\"1998\",\"imdbID\":\"tt0118661\",\"Type\":\"movie\",\"Poster\":\"https://m.media-amazon.com/images/M/MV5BYWE1NTdjOWQtYTQ2Ny00Nzc5LWExYzMtNmRlOThmOTE2N2I4XkEyXkFqcGdeQXVyNjUwNzk3NDc@._V1_SX300.jpg\"},{\"Title\":\"The Avengers: Earth's Mightiest Heroes\",\"Year\":\"2010–2012\",\"imdbID\":\"tt1626038\",\"Type\":\"series\",\"Poster\":\"https://m.media-amazon.com/images/M/MV5BYzA4ZjVhYzctZmI0NC00ZmIxLWFmYTgtOGIxMDYxODhmMGQ2XkEyXkFqcGdeQXVyNjExODE1MDc@._V1_SX300.jpg\"},{\"Title\":\"Ultimate Avengers\",\"Year\":\"2006\",\"imdbID\":\"tt0491703\",\"Type\":\"movie\",\"Poster\":\"https://m.media-amazon.com/images/M/MV5BNDFmZTkxMjktMzRiYS00YzMwLWFhZDctOTQ2N2NlOTAyZDJhXkEyXkFqcGdeQXVyNjgzNDU2ODI@._V1_SX300.jpg\"},{\"Title\":\"Ultimate Avengers II\",\"Year\":\"2006\",\"imdbID\":\"tt0803093\",\"Type\":\"movie\",\"Poster\":\"https://m.media-amazon.com/images/M/MV5BZjI3MTI5ZTYtZmNmNy00OGZmLTlhNWMtNjZiYmYzNDhlOGRkL2ltYWdlL2ltYWdlXkEyXkFqcGdeQXVyNTAyODkwOQ@@._V1_SX300.jpg\"},{\"Title\":\"The Avengers\",\"Year\":\"1961–1969\",\"imdbID\":\"tt0054518\",\"Type\":\"series\",\"Poster\":\"https://m.media-amazon.com/images/M/MV5BZWI4ZWM4ZWQtODk1ZC00MzMxLThlZmMtOGFmMTYxZTAwYjc5XkEyXkFqcGdeQXVyMTk0MjQ3Nzk@._V1_SX300.jpg\"}],\"totalResults\":\"95\",\"Response\":\"True\"}\n"
     ]
    }
   ],
   "source": [
    "API_URL = 'http://www.omdbapi.com/?apikey=' + API_KEY + '&s=Avengers'\n",
    "\n",
    "#imdb_response = requests.get(API_URL)\n",
    "\n",
    "print(imdb_response.text)"
   ]
  },
  {
   "cell_type": "code",
   "execution_count": 9,
   "metadata": {},
   "outputs": [],
   "source": [
    "import json\n",
    "json_response = json.loads(imdb_response.text)"
   ]
  },
  {
   "cell_type": "code",
   "execution_count": 12,
   "metadata": {},
   "outputs": [
    {
     "name": "stdout",
     "output_type": "stream",
     "text": [
      "https://m.media-amazon.com/images/M/MV5BMTM4OGJmNWMtOTM4Ni00NTE3LTg3MDItZmQxYjc4N2JhNmUxXkEyXkFqcGdeQXVyNTgzMDMzMTg@._V1_SX300.jpg\n"
     ]
    }
   ],
   "source": [
    "poster_url = json_response['Search'][2]['Poster']\n",
    "print(poster_url)"
   ]
  },
  {
   "cell_type": "code",
   "execution_count": 13,
   "metadata": {},
   "outputs": [
    {
     "data": {
      "text/html": [
       "<img src=\"https://m.media-amazon.com/images/M/MV5BMTM4OGJmNWMtOTM4Ni00NTE3LTg3MDItZmQxYjc4N2JhNmUxXkEyXkFqcGdeQXVyNTgzMDMzMTg@._V1_SX300.jpg\"/>"
      ],
      "text/plain": [
       "<IPython.core.display.Image object>"
      ]
     },
     "execution_count": 13,
     "metadata": {},
     "output_type": "execute_result"
    }
   ],
   "source": [
    "from IPython.display import Image\n",
    "from IPython.core.display import HTML \n",
    "\n",
    "Image(url=poster_url)"
   ]
  },
  {
   "cell_type": "code",
   "execution_count": null,
   "metadata": {},
   "outputs": [],
   "source": []
  }
 ],
 "metadata": {
  "kernelspec": {
   "display_name": "Python 3",
   "language": "python",
   "name": "python3"
  },
  "language_info": {
   "codemirror_mode": {
    "name": "ipython",
    "version": 3
   },
   "file_extension": ".py",
   "mimetype": "text/x-python",
   "name": "python",
   "nbconvert_exporter": "python",
   "pygments_lexer": "ipython3",
   "version": "3.7.4"
  }
 },
 "nbformat": 4,
 "nbformat_minor": 2
}
